{
  "nbformat": 4,
  "nbformat_minor": 0,
  "metadata": {
    "colab": {
      "provenance": [],
      "authorship_tag": "ABX9TyP24oGAYZZ3ve56Ng2p6167",
      "include_colab_link": true
    },
    "kernelspec": {
      "name": "python3",
      "display_name": "Python 3"
    },
    "language_info": {
      "name": "python"
    }
  },
  "cells": [
    {
      "cell_type": "markdown",
      "metadata": {
        "id": "view-in-github",
        "colab_type": "text"
      },
      "source": [
        "<a href=\"https://colab.research.google.com/github/omyllymaki/mean-shift-clustering/blob/main/mean_shift_clustering.ipynb\" target=\"_parent\"><img src=\"https://colab.research.google.com/assets/colab-badge.svg\" alt=\"Open In Colab\"/></a>"
      ]
    },
    {
      "cell_type": "markdown",
      "source": [
        "#Mean shift clustering"
      ],
      "metadata": {
        "id": "s_JJvfZOagUo"
      }
    },
    {
      "cell_type": "code",
      "source": [
        "import torch\n",
        "import matplotlib.pyplot as plt"
      ],
      "metadata": {
        "id": "1Q68dlKeautI"
      },
      "execution_count": 29,
      "outputs": []
    },
    {
      "cell_type": "code",
      "source": [
        "torch.manual_seed(7)"
      ],
      "metadata": {
        "colab": {
          "base_uri": "https://localhost:8080/"
        },
        "id": "b3LEVr7iaxKi",
        "outputId": "19003591-fe6d-4c4d-b0ef-a9e5e9861818"
      },
      "execution_count": 30,
      "outputs": [
        {
          "output_type": "execute_result",
          "data": {
            "text/plain": [
              "<torch._C.Generator at 0x79a947188470>"
            ]
          },
          "metadata": {},
          "execution_count": 30
        }
      ]
    },
    {
      "cell_type": "code",
      "source": [
        "\n",
        "\n",
        "# Number of points per cluster\n",
        "num_points_per_cluster = 200\n",
        "\n",
        "# Number of clusters\n",
        "num_clusters = 5\n",
        "\n",
        "# Initialize an empty list to store points\n",
        "points = []\n",
        "\n",
        "# Generate points for each cluster\n",
        "for _ in range(num_clusters):\n",
        "\n",
        "    x_center = torch.randn(1)*10\n",
        "    y_center = torch.randn(1)*10\n",
        "\n",
        "    # Generate random x and y coordinates from a Gaussian distribution\n",
        "    x_coordinates = torch.randn(num_points_per_cluster) + x_center\n",
        "    y_coordinates = torch.randn(num_points_per_cluster) + y_center\n",
        "\n",
        "    # Create a 2D tensor for the cluster and add it to the list\n",
        "    cluster_points = torch.stack((x_coordinates, y_coordinates), dim=1)\n",
        "    points.append(cluster_points)\n",
        "\n",
        "# Concatenate all cluster points into a single tensor\n",
        "points = torch.cat(points)\n",
        "\n",
        "# Print the generated points\n",
        "print(points.shape)\n",
        "\n"
      ],
      "metadata": {
        "colab": {
          "base_uri": "https://localhost:8080/"
        },
        "id": "i2SCUipda6ac",
        "outputId": "c6c2bd80-3113-4ed4-d1c6-93eb44ec0e36"
      },
      "execution_count": 35,
      "outputs": [
        {
          "output_type": "stream",
          "name": "stdout",
          "text": [
            "torch.Size([1000, 2])\n"
          ]
        }
      ]
    },
    {
      "cell_type": "code",
      "source": [
        "plt.plot(points[:,0], points[:,1], \"b.\")"
      ],
      "metadata": {
        "colab": {
          "base_uri": "https://localhost:8080/",
          "height": 447
        },
        "id": "W_wxXvbzbxcT",
        "outputId": "dde1e61b-735f-48d0-f366-9f8ab0d1f6dd"
      },
      "execution_count": 36,
      "outputs": [
        {
          "output_type": "execute_result",
          "data": {
            "text/plain": [
              "[<matplotlib.lines.Line2D at 0x79a89a8969e0>]"
            ]
          },
          "metadata": {},
          "execution_count": 36
        },
        {
          "output_type": "display_data",
          "data": {
            "text/plain": [
              "<Figure size 640x480 with 1 Axes>"
            ],
            "image/png": "[encoded data removed]"
          },
          "metadata": {}
        }
      ]
    },
    {
      "cell_type": "code",
      "source": [],
      "metadata": {
        "id": "Raqm9rrDb3FW"
      },
      "execution_count": null,
      "outputs": []
    }
  ]
}